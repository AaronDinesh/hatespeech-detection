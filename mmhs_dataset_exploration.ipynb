{
 "cells": [
  {
   "cell_type": "code",
   "execution_count": 4,
   "metadata": {},
   "outputs": [],
   "source": [
    "import pandas as pd\n",
    "import matplotlib.pyplot as plt\n",
    "import numpy as np\n",
    "import os"
   ]
  },
  {
   "cell_type": "code",
   "execution_count": 12,
   "metadata": {},
   "outputs": [],
   "source": [
    "#load dataset\n",
    "#json into dataframe\n",
    "data_dir = './MMHS150K/'\n",
    "df = pd.read_json(os.path.join(data_dir, 'MMHS150K_GT.json'), lines=False, orient='index')"
   ]
  },
  {
   "cell_type": "code",
   "execution_count": 13,
   "metadata": {},
   "outputs": [
    {
     "data": {
      "text/html": [
       "<div>\n",
       "<style scoped>\n",
       "    .dataframe tbody tr th:only-of-type {\n",
       "        vertical-align: middle;\n",
       "    }\n",
       "\n",
       "    .dataframe tbody tr th {\n",
       "        vertical-align: top;\n",
       "    }\n",
       "\n",
       "    .dataframe thead th {\n",
       "        text-align: right;\n",
       "    }\n",
       "</style>\n",
       "<table border=\"1\" class=\"dataframe\">\n",
       "  <thead>\n",
       "    <tr style=\"text-align: right;\">\n",
       "      <th></th>\n",
       "      <th>img_url</th>\n",
       "      <th>labels</th>\n",
       "      <th>tweet_url</th>\n",
       "      <th>tweet_text</th>\n",
       "      <th>labels_str</th>\n",
       "    </tr>\n",
       "  </thead>\n",
       "  <tbody>\n",
       "    <tr>\n",
       "      <th>2005-04-28 09:09:13.714016256</th>\n",
       "      <td>http://pbs.twimg.com/tweet_video_thumb/D3gi9MH...</td>\n",
       "      <td>[4, 1, 3]</td>\n",
       "      <td>https://twitter.com/user/status/11146793537140...</td>\n",
       "      <td>@FriskDontMiss Nigga https://t.co/cAsaLWEpue</td>\n",
       "      <td>[Religion, Racist, Homophobe]</td>\n",
       "    </tr>\n",
       "    <tr>\n",
       "      <th>2003-09-08 11:20:48.816660480</th>\n",
       "      <td>http://pbs.twimg.com/ext_tw_video_thumb/106301...</td>\n",
       "      <td>[5, 5, 5]</td>\n",
       "      <td>https://twitter.com/user/status/10630200488166...</td>\n",
       "      <td>My horses are retarded https://t.co/HYhqc6d5WN</td>\n",
       "      <td>[OtherHate, OtherHate, OtherHate]</td>\n",
       "    </tr>\n",
       "    <tr>\n",
       "      <th>2005-02-20 19:22:48.075374593</th>\n",
       "      <td>http://pbs.twimg.com/media/D2OzhzHUwAADQjd.jpg</td>\n",
       "      <td>[0, 0, 0]</td>\n",
       "      <td>https://twitter.com/user/status/11089273680753...</td>\n",
       "      <td>“NIGGA ON MA MOMMA YOUNGBOY BE SPITTING REAL S...</td>\n",
       "      <td>[NotHate, NotHate, NotHate]</td>\n",
       "    </tr>\n",
       "    <tr>\n",
       "      <th>2005-04-26 23:35:34.635618305</th>\n",
       "      <td>http://pbs.twimg.com/ext_tw_video_thumb/111401...</td>\n",
       "      <td>[1, 0, 0]</td>\n",
       "      <td>https://twitter.com/user/status/11145585346356...</td>\n",
       "      <td>RT xxSuGVNGxx: I ran into this HOLY NIGGA TODA...</td>\n",
       "      <td>[Racist, NotHate, NotHate]</td>\n",
       "    </tr>\n",
       "    <tr>\n",
       "      <th>2002-10-22 02:08:00.215592966</th>\n",
       "      <td>http://pbs.twimg.com/media/Dl30pGIU8AAVGxO.jpg</td>\n",
       "      <td>[1, 0, 1]</td>\n",
       "      <td>https://twitter.com/user/status/10352524802155...</td>\n",
       "      <td>“EVERYbody calling you Nigger now!” https://t....</td>\n",
       "      <td>[Racist, NotHate, Racist]</td>\n",
       "    </tr>\n",
       "  </tbody>\n",
       "</table>\n",
       "</div>"
      ],
      "text/plain": [
       "                                                                         img_url  \\\n",
       "2005-04-28 09:09:13.714016256  http://pbs.twimg.com/tweet_video_thumb/D3gi9MH...   \n",
       "2003-09-08 11:20:48.816660480  http://pbs.twimg.com/ext_tw_video_thumb/106301...   \n",
       "2005-02-20 19:22:48.075374593     http://pbs.twimg.com/media/D2OzhzHUwAADQjd.jpg   \n",
       "2005-04-26 23:35:34.635618305  http://pbs.twimg.com/ext_tw_video_thumb/111401...   \n",
       "2002-10-22 02:08:00.215592966     http://pbs.twimg.com/media/Dl30pGIU8AAVGxO.jpg   \n",
       "\n",
       "                                  labels  \\\n",
       "2005-04-28 09:09:13.714016256  [4, 1, 3]   \n",
       "2003-09-08 11:20:48.816660480  [5, 5, 5]   \n",
       "2005-02-20 19:22:48.075374593  [0, 0, 0]   \n",
       "2005-04-26 23:35:34.635618305  [1, 0, 0]   \n",
       "2002-10-22 02:08:00.215592966  [1, 0, 1]   \n",
       "\n",
       "                                                                       tweet_url  \\\n",
       "2005-04-28 09:09:13.714016256  https://twitter.com/user/status/11146793537140...   \n",
       "2003-09-08 11:20:48.816660480  https://twitter.com/user/status/10630200488166...   \n",
       "2005-02-20 19:22:48.075374593  https://twitter.com/user/status/11089273680753...   \n",
       "2005-04-26 23:35:34.635618305  https://twitter.com/user/status/11145585346356...   \n",
       "2002-10-22 02:08:00.215592966  https://twitter.com/user/status/10352524802155...   \n",
       "\n",
       "                                                                      tweet_text  \\\n",
       "2005-04-28 09:09:13.714016256       @FriskDontMiss Nigga https://t.co/cAsaLWEpue   \n",
       "2003-09-08 11:20:48.816660480     My horses are retarded https://t.co/HYhqc6d5WN   \n",
       "2005-02-20 19:22:48.075374593  “NIGGA ON MA MOMMA YOUNGBOY BE SPITTING REAL S...   \n",
       "2005-04-26 23:35:34.635618305  RT xxSuGVNGxx: I ran into this HOLY NIGGA TODA...   \n",
       "2002-10-22 02:08:00.215592966  “EVERYbody calling you Nigger now!” https://t....   \n",
       "\n",
       "                                                      labels_str  \n",
       "2005-04-28 09:09:13.714016256      [Religion, Racist, Homophobe]  \n",
       "2003-09-08 11:20:48.816660480  [OtherHate, OtherHate, OtherHate]  \n",
       "2005-02-20 19:22:48.075374593        [NotHate, NotHate, NotHate]  \n",
       "2005-04-26 23:35:34.635618305         [Racist, NotHate, NotHate]  \n",
       "2002-10-22 02:08:00.215592966          [Racist, NotHate, Racist]  "
      ]
     },
     "execution_count": 13,
     "metadata": {},
     "output_type": "execute_result"
    }
   ],
   "source": [
    "df.head()"
   ]
  },
  {
   "cell_type": "code",
   "execution_count": null,
   "metadata": {},
   "outputs": [],
   "source": [
    "# "
   ]
  }
 ],
 "metadata": {
  "kernelspec": {
   "display_name": "Python 3.12.0 ('pyenv')",
   "language": "python",
   "name": "python3"
  },
  "language_info": {
   "codemirror_mode": {
    "name": "ipython",
    "version": 3
   },
   "file_extension": ".py",
   "mimetype": "text/x-python",
   "name": "python",
   "nbconvert_exporter": "python",
   "pygments_lexer": "ipython3",
   "version": "3.12.0"
  },
  "orig_nbformat": 4,
  "vscode": {
   "interpreter": {
    "hash": "c5db0b11a2c28e650914bcadf765ce81163110bd05441a302796e68891d33648"
   }
  }
 },
 "nbformat": 4,
 "nbformat_minor": 2
}
